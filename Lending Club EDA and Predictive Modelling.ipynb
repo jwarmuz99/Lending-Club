{
 "cells": [
  {
   "cell_type": "markdown",
   "metadata": {},
   "source": [
    "# How this notebook is structured<br>\n",
    "I want to create a predictive model based on the data on defaulted loans that I have obtained from kaggle.com. To do  so, I will take the following steps:\n",
    "1. Data Pre-processing<br>\n",
    "    a). Cleaning the data <br>\n",
    "    b). Handling missing values<br>\n",
    "    c). Balancing the data with respect to the dependent variable<br><br>\n",
    "2. Feature Selection <br>\n",
    "    a). Checking correlations between the predictors and the dependent variable<br>\n",
    "    b). Examining interdependencies between predictors (to avoid noise and overfitting)<br>\n",
    "    c). Choosing final features for the models<br>\n",
    "    d). Preparing variables for models (e.g. categorical variables -> numerical variables)<br><br>\n",
    "3. Training multiple models<br>\n",
    "    a). Logistic Regression<br>\n",
    "    b). Random Forest<br>\n",
    "    c). XGBoost<br>\n",
    "    d). Support Vector Machine<br><br>\n",
    "4. Choosing the best performing model based on ROC and P-R AUCs<br><br>\n",
    "5. Hyperparameter tuning of the chosen model<br><br>\n",
    "6. Conclusions and recommendations "
   ]
  },
  {
   "cell_type": "code",
   "execution_count": 1,
   "metadata": {},
   "outputs": [],
   "source": [
    "#importing all the necessary libraries\n",
    "import numpy as np\n",
    "import pandas as pd\n",
    "import matplotlib.pyplot as plt\n",
    "import seaborn as sns\n",
    "from scipy import stats\n",
    "from scipy.stats import linregress\n",
    "import statsmodels.api as statsmodels\n",
    "sns.set_style('whitegrid')\n",
    "%matplotlib inline"
   ]
  },
  {
   "cell_type": "code",
   "execution_count": 2,
   "metadata": {},
   "outputs": [],
   "source": [
    "df = pd.read_csv(\"loan.csv\", low_memory=False)"
   ]
  },
  {
   "cell_type": "code",
   "execution_count": 3,
   "metadata": {},
   "outputs": [
    {
     "data": {
      "text/html": [
       "<div>\n",
       "<style scoped>\n",
       "    .dataframe tbody tr th:only-of-type {\n",
       "        vertical-align: middle;\n",
       "    }\n",
       "\n",
       "    .dataframe tbody tr th {\n",
       "        vertical-align: top;\n",
       "    }\n",
       "\n",
       "    .dataframe thead th {\n",
       "        text-align: right;\n",
       "    }\n",
       "</style>\n",
       "<table border=\"1\" class=\"dataframe\">\n",
       "  <thead>\n",
       "    <tr style=\"text-align: right;\">\n",
       "      <th></th>\n",
       "      <th>id</th>\n",
       "      <th>member_id</th>\n",
       "      <th>loan_amnt</th>\n",
       "      <th>funded_amnt</th>\n",
       "      <th>funded_amnt_inv</th>\n",
       "      <th>term</th>\n",
       "      <th>int_rate</th>\n",
       "      <th>installment</th>\n",
       "      <th>grade</th>\n",
       "      <th>sub_grade</th>\n",
       "      <th>...</th>\n",
       "      <th>hardship_payoff_balance_amount</th>\n",
       "      <th>hardship_last_payment_amount</th>\n",
       "      <th>disbursement_method</th>\n",
       "      <th>debt_settlement_flag</th>\n",
       "      <th>debt_settlement_flag_date</th>\n",
       "      <th>settlement_status</th>\n",
       "      <th>settlement_date</th>\n",
       "      <th>settlement_amount</th>\n",
       "      <th>settlement_percentage</th>\n",
       "      <th>settlement_term</th>\n",
       "    </tr>\n",
       "  </thead>\n",
       "  <tbody>\n",
       "    <tr>\n",
       "      <th>0</th>\n",
       "      <td>NaN</td>\n",
       "      <td>NaN</td>\n",
       "      <td>2500</td>\n",
       "      <td>2500</td>\n",
       "      <td>2500.0</td>\n",
       "      <td>36 months</td>\n",
       "      <td>13.56</td>\n",
       "      <td>84.92</td>\n",
       "      <td>C</td>\n",
       "      <td>C1</td>\n",
       "      <td>...</td>\n",
       "      <td>NaN</td>\n",
       "      <td>NaN</td>\n",
       "      <td>Cash</td>\n",
       "      <td>N</td>\n",
       "      <td>NaN</td>\n",
       "      <td>NaN</td>\n",
       "      <td>NaN</td>\n",
       "      <td>NaN</td>\n",
       "      <td>NaN</td>\n",
       "      <td>NaN</td>\n",
       "    </tr>\n",
       "    <tr>\n",
       "      <th>1</th>\n",
       "      <td>NaN</td>\n",
       "      <td>NaN</td>\n",
       "      <td>30000</td>\n",
       "      <td>30000</td>\n",
       "      <td>30000.0</td>\n",
       "      <td>60 months</td>\n",
       "      <td>18.94</td>\n",
       "      <td>777.23</td>\n",
       "      <td>D</td>\n",
       "      <td>D2</td>\n",
       "      <td>...</td>\n",
       "      <td>NaN</td>\n",
       "      <td>NaN</td>\n",
       "      <td>Cash</td>\n",
       "      <td>N</td>\n",
       "      <td>NaN</td>\n",
       "      <td>NaN</td>\n",
       "      <td>NaN</td>\n",
       "      <td>NaN</td>\n",
       "      <td>NaN</td>\n",
       "      <td>NaN</td>\n",
       "    </tr>\n",
       "    <tr>\n",
       "      <th>2</th>\n",
       "      <td>NaN</td>\n",
       "      <td>NaN</td>\n",
       "      <td>5000</td>\n",
       "      <td>5000</td>\n",
       "      <td>5000.0</td>\n",
       "      <td>36 months</td>\n",
       "      <td>17.97</td>\n",
       "      <td>180.69</td>\n",
       "      <td>D</td>\n",
       "      <td>D1</td>\n",
       "      <td>...</td>\n",
       "      <td>NaN</td>\n",
       "      <td>NaN</td>\n",
       "      <td>Cash</td>\n",
       "      <td>N</td>\n",
       "      <td>NaN</td>\n",
       "      <td>NaN</td>\n",
       "      <td>NaN</td>\n",
       "      <td>NaN</td>\n",
       "      <td>NaN</td>\n",
       "      <td>NaN</td>\n",
       "    </tr>\n",
       "    <tr>\n",
       "      <th>3</th>\n",
       "      <td>NaN</td>\n",
       "      <td>NaN</td>\n",
       "      <td>4000</td>\n",
       "      <td>4000</td>\n",
       "      <td>4000.0</td>\n",
       "      <td>36 months</td>\n",
       "      <td>18.94</td>\n",
       "      <td>146.51</td>\n",
       "      <td>D</td>\n",
       "      <td>D2</td>\n",
       "      <td>...</td>\n",
       "      <td>NaN</td>\n",
       "      <td>NaN</td>\n",
       "      <td>Cash</td>\n",
       "      <td>N</td>\n",
       "      <td>NaN</td>\n",
       "      <td>NaN</td>\n",
       "      <td>NaN</td>\n",
       "      <td>NaN</td>\n",
       "      <td>NaN</td>\n",
       "      <td>NaN</td>\n",
       "    </tr>\n",
       "    <tr>\n",
       "      <th>4</th>\n",
       "      <td>NaN</td>\n",
       "      <td>NaN</td>\n",
       "      <td>30000</td>\n",
       "      <td>30000</td>\n",
       "      <td>30000.0</td>\n",
       "      <td>60 months</td>\n",
       "      <td>16.14</td>\n",
       "      <td>731.78</td>\n",
       "      <td>C</td>\n",
       "      <td>C4</td>\n",
       "      <td>...</td>\n",
       "      <td>NaN</td>\n",
       "      <td>NaN</td>\n",
       "      <td>Cash</td>\n",
       "      <td>N</td>\n",
       "      <td>NaN</td>\n",
       "      <td>NaN</td>\n",
       "      <td>NaN</td>\n",
       "      <td>NaN</td>\n",
       "      <td>NaN</td>\n",
       "      <td>NaN</td>\n",
       "    </tr>\n",
       "  </tbody>\n",
       "</table>\n",
       "<p>5 rows × 145 columns</p>\n",
       "</div>"
      ],
      "text/plain": [
       "   id  member_id  loan_amnt  funded_amnt  funded_amnt_inv        term  \\\n",
       "0 NaN        NaN       2500         2500           2500.0   36 months   \n",
       "1 NaN        NaN      30000        30000          30000.0   60 months   \n",
       "2 NaN        NaN       5000         5000           5000.0   36 months   \n",
       "3 NaN        NaN       4000         4000           4000.0   36 months   \n",
       "4 NaN        NaN      30000        30000          30000.0   60 months   \n",
       "\n",
       "   int_rate  installment grade sub_grade  ... hardship_payoff_balance_amount  \\\n",
       "0     13.56        84.92     C        C1  ...                            NaN   \n",
       "1     18.94       777.23     D        D2  ...                            NaN   \n",
       "2     17.97       180.69     D        D1  ...                            NaN   \n",
       "3     18.94       146.51     D        D2  ...                            NaN   \n",
       "4     16.14       731.78     C        C4  ...                            NaN   \n",
       "\n",
       "  hardship_last_payment_amount disbursement_method  debt_settlement_flag  \\\n",
       "0                          NaN                Cash                     N   \n",
       "1                          NaN                Cash                     N   \n",
       "2                          NaN                Cash                     N   \n",
       "3                          NaN                Cash                     N   \n",
       "4                          NaN                Cash                     N   \n",
       "\n",
       "  debt_settlement_flag_date settlement_status settlement_date  \\\n",
       "0                       NaN               NaN             NaN   \n",
       "1                       NaN               NaN             NaN   \n",
       "2                       NaN               NaN             NaN   \n",
       "3                       NaN               NaN             NaN   \n",
       "4                       NaN               NaN             NaN   \n",
       "\n",
       "  settlement_amount  settlement_percentage settlement_term  \n",
       "0               NaN                    NaN             NaN  \n",
       "1               NaN                    NaN             NaN  \n",
       "2               NaN                    NaN             NaN  \n",
       "3               NaN                    NaN             NaN  \n",
       "4               NaN                    NaN             NaN  \n",
       "\n",
       "[5 rows x 145 columns]"
      ]
     },
     "execution_count": 3,
     "metadata": {},
     "output_type": "execute_result"
    }
   ],
   "source": [
    "df.head()"
   ]
  },
  {
   "cell_type": "code",
   "execution_count": 4,
   "metadata": {},
   "outputs": [
    {
     "name": "stdout",
     "output_type": "stream",
     "text": [
      "<class 'pandas.core.frame.DataFrame'>\n",
      "RangeIndex: 2260668 entries, 0 to 2260667\n",
      "Columns: 145 entries, id to settlement_term\n",
      "dtypes: float64(105), int64(4), object(36)\n",
      "memory usage: 2.4+ GB\n"
     ]
    }
   ],
   "source": [
    "df.info()"
   ]
  },
  {
   "cell_type": "code",
   "execution_count": 5,
   "metadata": {},
   "outputs": [
    {
     "data": {
      "text/plain": [
       "['id',\n",
       " 'member_id',\n",
       " 'loan_amnt',\n",
       " 'funded_amnt',\n",
       " 'funded_amnt_inv',\n",
       " 'term',\n",
       " 'int_rate',\n",
       " 'installment',\n",
       " 'grade',\n",
       " 'sub_grade',\n",
       " 'emp_title',\n",
       " 'emp_length',\n",
       " 'home_ownership',\n",
       " 'annual_inc',\n",
       " 'verification_status',\n",
       " 'issue_d',\n",
       " 'loan_status',\n",
       " 'pymnt_plan',\n",
       " 'url',\n",
       " 'desc',\n",
       " 'purpose',\n",
       " 'title',\n",
       " 'zip_code',\n",
       " 'addr_state',\n",
       " 'dti',\n",
       " 'delinq_2yrs',\n",
       " 'earliest_cr_line',\n",
       " 'inq_last_6mths',\n",
       " 'mths_since_last_delinq',\n",
       " 'mths_since_last_record',\n",
       " 'open_acc',\n",
       " 'pub_rec',\n",
       " 'revol_bal',\n",
       " 'revol_util',\n",
       " 'total_acc',\n",
       " 'initial_list_status',\n",
       " 'out_prncp',\n",
       " 'out_prncp_inv',\n",
       " 'total_pymnt',\n",
       " 'total_pymnt_inv',\n",
       " 'total_rec_prncp',\n",
       " 'total_rec_int',\n",
       " 'total_rec_late_fee',\n",
       " 'recoveries',\n",
       " 'collection_recovery_fee',\n",
       " 'last_pymnt_d',\n",
       " 'last_pymnt_amnt',\n",
       " 'next_pymnt_d',\n",
       " 'last_credit_pull_d',\n",
       " 'collections_12_mths_ex_med',\n",
       " 'mths_since_last_major_derog',\n",
       " 'policy_code',\n",
       " 'application_type',\n",
       " 'annual_inc_joint',\n",
       " 'dti_joint',\n",
       " 'verification_status_joint',\n",
       " 'acc_now_delinq',\n",
       " 'tot_coll_amt',\n",
       " 'tot_cur_bal',\n",
       " 'open_acc_6m',\n",
       " 'open_act_il',\n",
       " 'open_il_12m',\n",
       " 'open_il_24m',\n",
       " 'mths_since_rcnt_il',\n",
       " 'total_bal_il',\n",
       " 'il_util',\n",
       " 'open_rv_12m',\n",
       " 'open_rv_24m',\n",
       " 'max_bal_bc',\n",
       " 'all_util',\n",
       " 'total_rev_hi_lim',\n",
       " 'inq_fi',\n",
       " 'total_cu_tl',\n",
       " 'inq_last_12m',\n",
       " 'acc_open_past_24mths',\n",
       " 'avg_cur_bal',\n",
       " 'bc_open_to_buy',\n",
       " 'bc_util',\n",
       " 'chargeoff_within_12_mths',\n",
       " 'delinq_amnt',\n",
       " 'mo_sin_old_il_acct',\n",
       " 'mo_sin_old_rev_tl_op',\n",
       " 'mo_sin_rcnt_rev_tl_op',\n",
       " 'mo_sin_rcnt_tl',\n",
       " 'mort_acc',\n",
       " 'mths_since_recent_bc',\n",
       " 'mths_since_recent_bc_dlq',\n",
       " 'mths_since_recent_inq',\n",
       " 'mths_since_recent_revol_delinq',\n",
       " 'num_accts_ever_120_pd',\n",
       " 'num_actv_bc_tl',\n",
       " 'num_actv_rev_tl',\n",
       " 'num_bc_sats',\n",
       " 'num_bc_tl',\n",
       " 'num_il_tl',\n",
       " 'num_op_rev_tl',\n",
       " 'num_rev_accts',\n",
       " 'num_rev_tl_bal_gt_0',\n",
       " 'num_sats',\n",
       " 'num_tl_120dpd_2m',\n",
       " 'num_tl_30dpd',\n",
       " 'num_tl_90g_dpd_24m',\n",
       " 'num_tl_op_past_12m',\n",
       " 'pct_tl_nvr_dlq',\n",
       " 'percent_bc_gt_75',\n",
       " 'pub_rec_bankruptcies',\n",
       " 'tax_liens',\n",
       " 'tot_hi_cred_lim',\n",
       " 'total_bal_ex_mort',\n",
       " 'total_bc_limit',\n",
       " 'total_il_high_credit_limit',\n",
       " 'revol_bal_joint',\n",
       " 'sec_app_earliest_cr_line',\n",
       " 'sec_app_inq_last_6mths',\n",
       " 'sec_app_mort_acc',\n",
       " 'sec_app_open_acc',\n",
       " 'sec_app_revol_util',\n",
       " 'sec_app_open_act_il',\n",
       " 'sec_app_num_rev_accts',\n",
       " 'sec_app_chargeoff_within_12_mths',\n",
       " 'sec_app_collections_12_mths_ex_med',\n",
       " 'sec_app_mths_since_last_major_derog',\n",
       " 'hardship_flag',\n",
       " 'hardship_type',\n",
       " 'hardship_reason',\n",
       " 'hardship_status',\n",
       " 'deferral_term',\n",
       " 'hardship_amount',\n",
       " 'hardship_start_date',\n",
       " 'hardship_end_date',\n",
       " 'payment_plan_start_date',\n",
       " 'hardship_length',\n",
       " 'hardship_dpd',\n",
       " 'hardship_loan_status',\n",
       " 'orig_projected_additional_accrued_interest',\n",
       " 'hardship_payoff_balance_amount',\n",
       " 'hardship_last_payment_amount',\n",
       " 'disbursement_method',\n",
       " 'debt_settlement_flag',\n",
       " 'debt_settlement_flag_date',\n",
       " 'settlement_status',\n",
       " 'settlement_date',\n",
       " 'settlement_amount',\n",
       " 'settlement_percentage',\n",
       " 'settlement_term']"
      ]
     },
     "execution_count": 5,
     "metadata": {},
     "output_type": "execute_result"
    }
   ],
   "source": [
    "list(df)"
   ]
  },
  {
   "cell_type": "code",
   "execution_count": 6,
   "metadata": {},
   "outputs": [
    {
     "data": {
      "text/plain": [
       "id                                            2260668\n",
       "member_id                                     2260668\n",
       "emp_title                                      166969\n",
       "emp_length                                     146907\n",
       "annual_inc                                          4\n",
       "url                                           2260668\n",
       "desc                                          2134601\n",
       "title                                           23325\n",
       "zip_code                                            1\n",
       "dti                                              1711\n",
       "delinq_2yrs                                        29\n",
       "earliest_cr_line                                   29\n",
       "inq_last_6mths                                     30\n",
       "mths_since_last_delinq                        1158502\n",
       "mths_since_last_record                        1901512\n",
       "open_acc                                           29\n",
       "pub_rec                                            29\n",
       "revol_util                                       1802\n",
       "total_acc                                          29\n",
       "last_pymnt_d                                     2426\n",
       "next_pymnt_d                                  1303607\n",
       "last_credit_pull_d                                 73\n",
       "collections_12_mths_ex_med                        145\n",
       "mths_since_last_major_derog                   1679893\n",
       "annual_inc_joint                              2139958\n",
       "dti_joint                                     2139962\n",
       "verification_status_joint                     2144938\n",
       "acc_now_delinq                                     29\n",
       "tot_coll_amt                                    70276\n",
       "tot_cur_bal                                     70276\n",
       "                                               ...   \n",
       "sec_app_earliest_cr_line                      2152647\n",
       "sec_app_inq_last_6mths                        2152647\n",
       "sec_app_mort_acc                              2152647\n",
       "sec_app_open_acc                              2152647\n",
       "sec_app_revol_util                            2154484\n",
       "sec_app_open_act_il                           2152647\n",
       "sec_app_num_rev_accts                         2152647\n",
       "sec_app_chargeoff_within_12_mths              2152647\n",
       "sec_app_collections_12_mths_ex_med            2152647\n",
       "sec_app_mths_since_last_major_derog           2224726\n",
       "hardship_type                                 2250055\n",
       "hardship_reason                               2250055\n",
       "hardship_status                               2250055\n",
       "deferral_term                                 2250055\n",
       "hardship_amount                               2250055\n",
       "hardship_start_date                           2250055\n",
       "hardship_end_date                             2250055\n",
       "payment_plan_start_date                       2250055\n",
       "hardship_length                               2250055\n",
       "hardship_dpd                                  2250055\n",
       "hardship_loan_status                          2250055\n",
       "orig_projected_additional_accrued_interest    2252242\n",
       "hardship_payoff_balance_amount                2250055\n",
       "hardship_last_payment_amount                  2250055\n",
       "debt_settlement_flag_date                     2227612\n",
       "settlement_status                             2227612\n",
       "settlement_date                               2227612\n",
       "settlement_amount                             2227612\n",
       "settlement_percentage                         2227612\n",
       "settlement_term                               2227612\n",
       "Length: 113, dtype: int64"
      ]
     },
     "execution_count": 6,
     "metadata": {},
     "output_type": "execute_result"
    }
   ],
   "source": [
    "#Creating a column that contains the names of the columns with missing values and their respective number of missing values\n",
    "null_columns=df.columns[df.isnull().any()]\n",
    "df[null_columns].isnull().sum()"
   ]
  },
  {
   "cell_type": "code",
   "execution_count": 7,
   "metadata": {},
   "outputs": [
    {
     "data": {
      "text/plain": [
       "(2260668, 101)"
      ]
     },
     "execution_count": 7,
     "metadata": {},
     "output_type": "execute_result"
    }
   ],
   "source": [
    "#I will drop the columns that have more than 50% of values missing\n",
    "df.dropna(axis=1,thresh=(2260668-1130334), inplace=True)\n",
    "df.shape"
   ]
  },
  {
   "cell_type": "markdown",
   "metadata": {},
   "source": [
    "I have dropped 44 columns. I will also drop all the entries were any of the data is missing. Given the huge size of the data, I will still be left with multiple entries to work with. In the best case scenario, I would examine both the columns with multiple null values and the entries with missing data because they might contain some important information (maybe a lack of some specific information could be a good predictor of the customer running on default). However, given the time constraints I will stick with only the data that is present in the set"
   ]
  },
  {
   "cell_type": "code",
   "execution_count": 8,
   "metadata": {},
   "outputs": [
    {
     "name": "stdout",
     "output_type": "stream",
     "text": [
      "Percent of defaulted loans: 12.57787521210545 %\n"
     ]
    }
   ],
   "source": [
    "#Marking all the good loans as 'Satisfactory' and all the defaulted ones as 'Default'. The segregation based on the guidelines of the task\n",
    "df.replace(to_replace=['Charged Off','Late (31-120 days)','Does not meet the credit policy. Status:Charged Off', 'Default'], value='Default', inplace=True)\n",
    "df.replace(to_replace=['Fully Paid', 'Current', 'In Grace Period', 'Late (16-30 days)', 'Does not meet the credit policy. Status:Fully Paid'], value='Satisfactory', inplace=True)\n",
    "default_vs_good=df['loan_status'].value_counts()\n",
    "print('Percent of defaulted loans:',(default_vs_good[1]/(default_vs_good[0]+default_vs_good[1]))*100,'%')"
   ]
  },
  {
   "cell_type": "code",
   "execution_count": 9,
   "metadata": {},
   "outputs": [
    {
     "data": {
      "text/plain": [
       "(917472, 101)"
      ]
     },
     "execution_count": 9,
     "metadata": {},
     "output_type": "execute_result"
    }
   ],
   "source": [
    "df = df.dropna(axis=0, how='any')\n",
    "df.shape"
   ]
  },
  {
   "cell_type": "code",
   "execution_count": 10,
   "metadata": {},
   "outputs": [
    {
     "data": {
      "text/plain": [
       "array(['Satisfactory', 'Default'], dtype=object)"
      ]
     },
     "execution_count": 10,
     "metadata": {},
     "output_type": "execute_result"
    }
   ],
   "source": [
    "df['loan_status'].unique()"
   ]
  },
  {
   "cell_type": "markdown",
   "metadata": {},
   "source": [
    "It might be the case that I will have a highly unbalanced data in the 'loan_status' column. I will check if that's true and if so, take required steps"
   ]
  },
  {
   "cell_type": "code",
   "execution_count": 11,
   "metadata": {},
   "outputs": [
    {
     "data": {
      "text/plain": [
       "Satisfactory    830511\n",
       "Default          86961\n",
       "Name: loan_status, dtype: int64"
      ]
     },
     "execution_count": 11,
     "metadata": {},
     "output_type": "execute_result"
    }
   ],
   "source": [
    "df['loan_status'].value_counts()"
   ]
  },
  {
   "cell_type": "code",
   "execution_count": 12,
   "metadata": {},
   "outputs": [
    {
     "data": {
      "text/plain": [
       "Text(0.5, 1.0, 'Figure: Distribution of loan statuses')"
      ]
     },
     "execution_count": 12,
     "metadata": {},
     "output_type": "execute_result"
    },
    {
     "data": {
      "image/png": "[encoded data removed]",
      "text/plain": [
       "<Figure size 432x288 with 1 Axes>"
      ]
     },
     "metadata": {
      "needs_background": "light"
     },
     "output_type": "display_data"
    }
   ],
   "source": [
    "fig = plt.figure()\n",
    "ax = fig.add_axes([0,0,1,1])\n",
    "ax = sns.countplot(x=\"loan_status\", data=df)\n",
    "ax.set_xlabel('')\n",
    "ax.set_ylabel('Number of occurrences')\n",
    "ax.set_title(\"Figure: Distribution of loan statuses\")"
   ]
  },
  {
   "cell_type": "markdown",
   "metadata": {},
   "source": [
    "The initial dataset consisted of 2M+ entries and 145 columns. After cleaning the data, I obtained the set of 900.000+ entries and 101 columns. To narrow down the dataset even more to decrease the computational demand of the operations, I will use all the entries where the variable of interest, ‘loan_status’ has ‘Default’ value and a downsampled number of randomly chosen entries with ‘Satisfactory’ value. I will use random sampling with replacement. By having a balanced dataset, the algorithm can find it easier to identify the patterns of interest in the data. However, I will need to test the model on the dataset with exact same distribution as the original data. Thus, I will train/test split now, and then downsample only the training dataset."
   ]
  },
  {
   "cell_type": "code",
   "execution_count": 13,
   "metadata": {},
   "outputs": [
    {
     "name": "stdout",
     "output_type": "stream",
     "text": [
      "Train set size: 642230\n",
      "Number of defaults on train set: 60247\n",
      "Test set size: 275242\n",
      "Number of defaults on test set: 26714\n"
     ]
    }
   ],
   "source": [
    "test_df = df.iloc[int(len(df)*0.7):]\n",
    "train_df = df.iloc[:int(0.7*len(df))]\n",
    "print(\"Train set size: {}\".format(len(train_df)))\n",
    "print(\"Number of defaults on train set: {}\".format(len(train_df[train_df['loan_status']=='Default'])))\n",
    "\n",
    "print(\"Test set size: {}\".format(len(test_df)))\n",
    "print(\"Number of defaults on test set: {}\".format(len(test_df[test_df['loan_status']=='Default'])))\n"
   ]
  },
  {
   "cell_type": "code",
   "execution_count": 14,
   "metadata": {},
   "outputs": [
    {
     "data": {
      "text/plain": [
       "Satisfactory    80000\n",
       "Default         60247\n",
       "Name: loan_status, dtype: int64"
      ]
     },
     "execution_count": 14,
     "metadata": {},
     "output_type": "execute_result"
    }
   ],
   "source": [
    "#Creating a new dataframe called 'defaulted' that consists of only defaulted loans\n",
    "pd.defaulted=train_df[train_df['loan_status']=='Default']\n",
    "#Creating a dataframe that contains only 'Sattisfactory' loans. It will be used for sampling and added to the defaulted dataframe\n",
    "pd.satisfactory=train_df[train_df['loan_status']=='Satisfactory']\n",
    "pd.sample_satisfactory=pd.satisfactory.sample(n=80000, replace=True)\n",
    "#Creating new dataframe 'sampledf' and adding two dataframes with different loan_status values\n",
    "pd.sampledf=pd.defaulted.append(pd.sample_satisfactory, sort=True)\n",
    "sampledf=pd.sampledf\n",
    "#reshuffling\n",
    "sampledf = sampledf.sample(frac=1.0)\n",
    "#Confirming that I obtained what I wanted\n",
    "sampledf['loan_status'].value_counts()"
   ]
  },
  {
   "cell_type": "markdown",
   "metadata": {},
   "source": [
    "In order to run the logistic regression, I will have to convert the categorical variables into numerical ones. Wherever I have a binary type (i.e two categories) of values in a column, I will use 0s and 1s. In cases I have more than 2 options, I will create new columns (dummy variables) with 1s indicating the presence of a specific characteristic and 0s as lack thereof. I will also drop these columns which either contain multiple distinct values (because creating multiple new columns might have a detrimental impact on the performance of the model - creating more overfitting than delivering relevant information. It is because each raw variable represented by a group of dummy variables will cause loss of one degree of freedom, i.e. causing interdependency between variables, which is detrimental to the model), or do not seem to provide any relevance to the model. In some cases, I will transform categorical data into numerical by simply converting them to numbers - it will happen in case of ordinal variables. For transforming categorical variables into numerical ones, I will use pd.get_dummies and LabelEncoder."
   ]
  },
  {
   "cell_type": "code",
   "execution_count": 15,
   "metadata": {},
   "outputs": [
    {
     "data": {
      "text/plain": [
       "['addr_state',\n",
       " 'application_type',\n",
       " 'debt_settlement_flag',\n",
       " 'disbursement_method',\n",
       " 'earliest_cr_line',\n",
       " 'emp_length',\n",
       " 'emp_title',\n",
       " 'grade',\n",
       " 'hardship_flag',\n",
       " 'home_ownership',\n",
       " 'initial_list_status',\n",
       " 'issue_d',\n",
       " 'last_credit_pull_d',\n",
       " 'last_pymnt_d',\n",
       " 'loan_status',\n",
       " 'purpose',\n",
       " 'pymnt_plan',\n",
       " 'sub_grade',\n",
       " 'term',\n",
       " 'title',\n",
       " 'verification_status',\n",
       " 'zip_code']"
      ]
     },
     "execution_count": 15,
     "metadata": {},
     "output_type": "execute_result"
    }
   ],
   "source": [
    "categorical=sampledf.select_dtypes('object')\n",
    "list(categorical)"
   ]
  },
  {
   "cell_type": "code",
   "execution_count": 16,
   "metadata": {},
   "outputs": [
    {
     "name": "stdout",
     "output_type": "stream",
     "text": [
      "CA    18610\n",
      "TX    12491\n",
      "NY    10745\n",
      "FL    10325\n",
      "IL     5545\n",
      "NJ     5227\n",
      "OH     4997\n",
      "PA     4844\n",
      "GA     4442\n",
      "NC     3896\n",
      "MI     3840\n",
      "VA     3701\n",
      "MD     3459\n",
      "AZ     3375\n",
      "MA     3295\n",
      "IN     2644\n",
      "WA     2539\n",
      "MN     2539\n",
      "CO     2426\n",
      "MO     2376\n",
      "TN     2282\n",
      "CT     2176\n",
      "NV     2057\n",
      "WI     1948\n",
      "AL     1759\n",
      "LA     1646\n",
      "SC     1536\n",
      "KY     1460\n",
      "OK     1425\n",
      "OR     1377\n",
      "AR     1185\n",
      "KS     1083\n",
      "MS      984\n",
      "UT      882\n",
      "NE      742\n",
      "NM      727\n",
      "NH      673\n",
      "HI      629\n",
      "RI      604\n",
      "WV      439\n",
      "DE      412\n",
      "ME      403\n",
      "ID      386\n",
      "MT      370\n",
      "AK      319\n",
      "ND      316\n",
      "SD      312\n",
      "VT      286\n",
      "WY      279\n",
      "DC      234\n",
      "Name: addr_state, dtype: int64\n",
      "Individual    131338\n",
      "Joint App       8909\n",
      "Name: application_type, dtype: int64\n",
      "N    132192\n",
      "Y      8055\n",
      "Name: debt_settlement_flag, dtype: int64\n",
      "Cash         132890\n",
      "DirectPay      7357\n",
      "Name: disbursement_method, dtype: int64\n",
      "Sep-2004    1210\n",
      "Sep-2005    1157\n",
      "Sep-2003    1105\n",
      "Aug-2005    1093\n",
      "Aug-2006    1047\n",
      "Aug-2003    1045\n",
      "Oct-2004    1036\n",
      "Aug-2004    1031\n",
      "Oct-2003     984\n",
      "Sep-2002     973\n",
      "Aug-2002     961\n",
      "Nov-2004     947\n",
      "Oct-2005     944\n",
      "Jun-2005     943\n",
      "Jul-2003     941\n",
      "Jul-2004     931\n",
      "Jul-2005     924\n",
      "Mar-2004     914\n",
      "Mar-2006     891\n",
      "Nov-2005     889\n",
      "Mar-2005     888\n",
      "Aug-2007     883\n",
      "Sep-2006     880\n",
      "Oct-2002     874\n",
      "Jun-2004     869\n",
      "May-2005     869\n",
      "Dec-2004     864\n",
      "Aug-2001     853\n",
      "May-2004     844\n",
      "Oct-2001     836\n",
      "            ... \n",
      "Sep-1964       1\n",
      "May-1958       1\n",
      "Feb-1965       1\n",
      "Jan-1965       1\n",
      "Sep-1969       1\n",
      "Jan-1966       1\n",
      "Aug-1964       1\n",
      "Oct-1964       1\n",
      "Aug-1961       1\n",
      "Jan-1964       1\n",
      "Dec-1968       1\n",
      "Mar-1964       1\n",
      "May-1961       1\n",
      "Mar-1966       1\n",
      "Jul-1964       1\n",
      "Jan-1962       1\n",
      "Jun-1963       1\n",
      "Nov-1963       1\n",
      "Nov-1961       1\n",
      "Jul-1970       1\n",
      "May-1966       1\n",
      "Feb-1967       1\n",
      "Jun-1962       1\n",
      "Jun-1952       1\n",
      "Jun-1964       1\n",
      "Jul-1969       1\n",
      "Jul-1967       1\n",
      "Jun-1960       1\n",
      "Jun-1970       1\n",
      "Jan-1960       1\n",
      "Name: earliest_cr_line, Length: 627, dtype: int64\n",
      "10+ years    49276\n",
      "2 years      14339\n",
      "3 years      12774\n",
      "< 1 year     11294\n",
      "1 year       10403\n",
      "4 years       9782\n",
      "5 years       9355\n",
      "6 years       6645\n",
      "8 years       5964\n",
      "7 years       5256\n",
      "9 years       5159\n",
      "Name: emp_length, dtype: int64\n",
      "Teacher                                 2805\n",
      "Manager                                 2638\n",
      "Owner                                   1659\n",
      "Driver                                  1331\n",
      "Registered Nurse                        1289\n",
      "RN                                      1148\n",
      "Supervisor                              1130\n",
      "Sales                                   1040\n",
      "Project Manager                          794\n",
      "General Manager                          702\n",
      "Office Manager                           638\n",
      "owner                                    602\n",
      "Director                                 562\n",
      "President                                538\n",
      "Engineer                                 509\n",
      "manager                                  499\n",
      "Operations Manager                       435\n",
      "teacher                                  432\n",
      "Nurse                                    425\n",
      "Sales Manager                            411\n",
      "driver                                   401\n",
      "Accountant                               394\n",
      "Truck Driver                             394\n",
      "Vice President                           361\n",
      "Administrative Assistant                 357\n",
      "Technician                               353\n",
      "Police Officer                           342\n",
      "Supervisor                               331\n",
      "Server                                   328\n",
      "Account Manager                          319\n",
      "                                        ... \n",
      "Owner opertaor                             1\n",
      "Fiscal Chief                               1\n",
      "Release Test manager                       1\n",
      "Surface Products Manager                   1\n",
      "Client Engagement Manager                  1\n",
      "RT                                         1\n",
      "Sr. Analyst                                1\n",
      "night custodian                            1\n",
      "SENIOR PHYSICAL THERAPIST                  1\n",
      "Instructional Systems Designer             1\n",
      "Wind Turbine Technician                    1\n",
      "Sr. Construction Manager                   1\n",
      "Communications and Marketing Manager       1\n",
      "Solutions Architect/Director               1\n",
      "Driver/Coordinator                         1\n",
      "shipper/receiver                           1\n",
      "Code Enforcement                           1\n",
      "INBOUND MANAGER                            1\n",
      "Direct T V Tech.                           1\n",
      "LEGAL ADMIN                                1\n",
      "Programs Manager                           1\n",
      "Business Relationship Manager II           1\n",
      "Maintenance Millwright                     1\n",
      "Earlyout Manager                           1\n",
      "Mid-Continent Inventory Manager            1\n",
      "IT Operations Manager/Military             1\n",
      "Human Service Territory Manager            1\n",
      "Resident care coordinator                  1\n",
      "Manufacture Tech                           1\n",
      "National General Manager                   1\n",
      "Name: emp_title, Length: 49818, dtype: int64\n",
      "C    42861\n",
      "B    36189\n",
      "D    24269\n",
      "A    20778\n",
      "E    10885\n",
      "F     4092\n",
      "G     1173\n",
      "Name: grade, dtype: int64\n",
      "N    140017\n",
      "Y       230\n",
      "Name: hardship_flag, dtype: int64\n",
      "MORTGAGE    66978\n",
      "RENT        57646\n",
      "OWN         15572\n",
      "ANY            51\n",
      "Name: home_ownership, dtype: int64\n",
      "w    110918\n",
      "f     29329\n",
      "Name: initial_list_status, dtype: int64\n",
      "Mar-2016    11459\n",
      "Feb-2016     7270\n",
      "Aug-2016     6672\n",
      "Jul-2016     6637\n",
      "Apr-2016     6599\n",
      "Dec-2016     6455\n",
      "Oct-2016     6059\n",
      "Jan-2016     6038\n",
      "Jun-2016     6017\n",
      "Nov-2016     5893\n",
      "Sep-2016     5228\n",
      "May-2018     5214\n",
      "May-2016     5203\n",
      "Mar-2017     5095\n",
      "Apr-2018     4901\n",
      "Jun-2018     4630\n",
      "Dec-2015     4539\n",
      "Jul-2018     4496\n",
      "Mar-2018     4475\n",
      "Aug-2018     4416\n",
      "Jan-2018     4402\n",
      "Oct-2018     4011\n",
      "Feb-2018     3722\n",
      "Sep-2018     3676\n",
      "Nov-2018     3610\n",
      "Dec-2018     3530\n",
      "Name: issue_d, dtype: int64\n",
      "Feb-2019    90720\n",
      "Jul-2018     4644\n",
      "Jan-2019     4310\n",
      "Oct-2018     3380\n",
      "Dec-2018     3030\n",
      "Aug-2018     2972\n",
      "Nov-2018     2627\n",
      "Sep-2018     2082\n",
      "Oct-2017     1979\n",
      "Jan-2018     1953\n",
      "Feb-2018     1884\n",
      "Nov-2017     1860\n",
      "Apr-2018     1798\n",
      "Mar-2018     1797\n",
      "May-2018     1705\n",
      "Dec-2017     1692\n",
      "Jun-2017     1644\n",
      "Jul-2017     1642\n",
      "Sep-2017     1490\n",
      "Aug-2017     1457\n",
      "Feb-2017     1367\n",
      "Apr-2017      928\n",
      "Mar-2017      771\n",
      "Jan-2017      463\n",
      "Dec-2016      428\n",
      "May-2017      393\n",
      "Oct-2016      367\n",
      "Jun-2018      270\n",
      "Nov-2016      210\n",
      "Jul-2016       88\n",
      "Aug-2016       72\n",
      "Apr-2016       47\n",
      "Jun-2016       46\n",
      "May-2016       44\n",
      "Mar-2016       28\n",
      "Sep-2016       27\n",
      "Feb-2016       23\n",
      "Jan-2016        5\n",
      "Dec-2015        4\n",
      "Name: last_credit_pull_d, dtype: int64\n",
      "Feb-2019    55875\n",
      "Jan-2019     4089\n",
      "Dec-2018     3808\n",
      "Nov-2018     3733\n",
      "Oct-2018     3562\n",
      "Aug-2018     3447\n",
      "Aug-2017     3259\n",
      "Jun-2017     3146\n",
      "Jul-2018     3088\n",
      "Mar-2017     2922\n",
      "Sep-2018     2918\n",
      "Jul-2017     2898\n",
      "May-2017     2853\n",
      "Jun-2018     2849\n",
      "Oct-2017     2823\n",
      "Nov-2017     2756\n",
      "Sep-2017     2736\n",
      "Mar-2018     2731\n",
      "Jan-2018     2626\n",
      "May-2018     2575\n",
      "Apr-2017     2563\n",
      "Apr-2018     2443\n",
      "Dec-2017     2395\n",
      "Jan-2017     2194\n",
      "Feb-2018     2174\n",
      "Dec-2016     2073\n",
      "Feb-2017     2007\n",
      "Nov-2016     1781\n",
      "Oct-2016     1744\n",
      "Sep-2016     1553\n",
      "Aug-2016     1302\n",
      "Jul-2016     1101\n",
      "Jun-2016      848\n",
      "May-2016      603\n",
      "Apr-2016      343\n",
      "Mar-2016      274\n",
      "Feb-2016      106\n",
      "Jan-2016       44\n",
      "Dec-2015        5\n",
      "Name: last_pymnt_d, dtype: int64\n",
      "Satisfactory    80000\n",
      "Default         60247\n",
      "Name: loan_status, dtype: int64\n",
      "debt_consolidation    80335\n",
      "credit_card           29423\n",
      "other                  9452\n",
      "home_improvement       9437\n",
      "major_purchase         3291\n",
      "medical                1904\n",
      "small_business         1713\n",
      "car                    1305\n",
      "house                  1120\n",
      "moving                 1103\n",
      "vacation               1069\n",
      "renewable_energy         93\n",
      "wedding                   2\n",
      "Name: purpose, dtype: int64\n",
      "n    140046\n",
      "y       201\n",
      "Name: pymnt_plan, dtype: int64\n",
      "C1    9243\n",
      "B5    8966\n",
      "C4    8713\n",
      "C5    8329\n",
      "C3    8307\n",
      "C2    8269\n",
      "B4    8230\n",
      "B2    6421\n",
      "B3    6416\n",
      "B1    6156\n",
      "D1    5875\n",
      "D2    5445\n",
      "D3    4815\n",
      "A5    4795\n",
      "A4    4764\n",
      "A1    4425\n",
      "D4    4366\n",
      "D5    3768\n",
      "A3    3527\n",
      "A2    3267\n",
      "E1    2696\n",
      "E3    2200\n",
      "E2    2053\n",
      "E5    2001\n",
      "E4    1935\n",
      "F1    1298\n",
      "F2     886\n",
      "F3     735\n",
      "F4     628\n",
      "F5     545\n",
      "G1     395\n",
      "G2     272\n",
      "G3     207\n",
      "G4     167\n",
      "G5     132\n",
      "Name: sub_grade, dtype: int64\n",
      " 36 months    96238\n",
      " 60 months    44009\n",
      "Name: term, dtype: int64\n",
      "Debt consolidation           80333\n",
      "Credit card refinancing      29431\n",
      "Other                         9461\n",
      "Home improvement              9434\n",
      "Major purchase                3286\n",
      "Medical expenses              1903\n",
      "Business                      1714\n",
      "Car financing                 1303\n",
      "Home buying                   1120\n",
      "Moving and relocation         1102\n",
      "Vacation                      1066\n",
      "Green loan                      93\n",
      "Credit Card Consolidation        1\n",
      "Name: title, dtype: int64\n",
      "Source Verified    61110\n",
      "Not Verified       42179\n",
      "Verified           36958\n",
      "Name: verification_status, dtype: int64\n",
      "750xx    1497\n",
      "945xx    1425\n",
      "331xx    1330\n",
      "112xx    1262\n",
      "300xx    1195\n",
      "330xx    1192\n",
      "606xx    1157\n",
      "770xx    1149\n",
      "891xx    1142\n",
      "070xx    1113\n",
      "117xx    1032\n",
      "104xx    1006\n",
      "900xx     959\n",
      "917xx     948\n",
      "852xx     925\n",
      "925xx     879\n",
      "604xx     806\n",
      "853xx     802\n",
      "334xx     801\n",
      "080xx     797\n",
      "921xx     791\n",
      "601xx     788\n",
      "481xx     786\n",
      "926xx     756\n",
      "760xx     753\n",
      "913xx     749\n",
      "773xx     744\n",
      "782xx     737\n",
      "100xx     730\n",
      "774xx     713\n",
      "         ... \n",
      "332xx       3\n",
      "369xx       3\n",
      "090xx       3\n",
      "576xx       3\n",
      "094xx       2\n",
      "345xx       2\n",
      "962xx       2\n",
      "861xx       2\n",
      "753xx       2\n",
      "854xx       1\n",
      "009xx       1\n",
      "942xx       1\n",
      "732xx       1\n",
      "528xx       1\n",
      "343xx       1\n",
      "311xx       1\n",
      "525xx       1\n",
      "097xx       1\n",
      "963xx       1\n",
      "095xx       1\n",
      "569xx       1\n",
      "348xx       1\n",
      "059xx       1\n",
      "523xx       1\n",
      "555xx       1\n",
      "340xx       1\n",
      "093xx       1\n",
      "621xx       1\n",
      "268xx       1\n",
      "965xx       1\n",
      "Name: zip_code, Length: 889, dtype: int64\n"
     ]
    }
   ],
   "source": [
    "for column in categorical:\n",
    "    print(sampledf[column].value_counts())"
   ]
  },
  {
   "cell_type": "code",
   "execution_count": 17,
   "metadata": {},
   "outputs": [],
   "source": [
    "#Creating a list with the names of columns I certainly want to delete\n",
    "to_drop=['addr_state', 'earliest_cr_line', 'emp_title', 'issue_d', 'last_credit_pull_d', 'last_pymnt_d','purpose', 'sub_grade', 'title', 'zip_code']\n",
    "\n",
    "#Deleting the columns from the df I am working on\n",
    "sampledf = sampledf.drop(columns=to_drop)\n",
    "categorical = categorical.drop(columns=to_drop)\n",
    "\n",
    "#There were 3 categorical variables in the 'verification_status' column, of which 2 were looking the same, hence I will replace one of these\n",
    "sampledf.replace(to_replace=['Verified'], value='Source Verified', inplace=True)"
   ]
  },
  {
   "cell_type": "code",
   "execution_count": 18,
   "metadata": {},
   "outputs": [
    {
     "name": "stdout",
     "output_type": "stream",
     "text": [
      "Individual    131338\n",
      "Joint App       8909\n",
      "Name: application_type, dtype: int64\n",
      "N    132192\n",
      "Y      8055\n",
      "Name: debt_settlement_flag, dtype: int64\n",
      "Cash         132890\n",
      "DirectPay      7357\n",
      "Name: disbursement_method, dtype: int64\n",
      "10+ years    49276\n",
      "2 years      14339\n",
      "3 years      12774\n",
      "< 1 year     11294\n",
      "1 year       10403\n",
      "4 years       9782\n",
      "5 years       9355\n",
      "6 years       6645\n",
      "8 years       5964\n",
      "7 years       5256\n",
      "9 years       5159\n",
      "Name: emp_length, dtype: int64\n",
      "C    42861\n",
      "B    36189\n",
      "D    24269\n",
      "A    20778\n",
      "E    10885\n",
      "F     4092\n",
      "G     1173\n",
      "Name: grade, dtype: int64\n",
      "N    140017\n",
      "Y       230\n",
      "Name: hardship_flag, dtype: int64\n",
      "MORTGAGE    66978\n",
      "RENT        57646\n",
      "OWN         15572\n",
      "ANY            51\n",
      "Name: home_ownership, dtype: int64\n",
      "w    110918\n",
      "f     29329\n",
      "Name: initial_list_status, dtype: int64\n",
      "Satisfactory    80000\n",
      "Default         60247\n",
      "Name: loan_status, dtype: int64\n",
      "n    140046\n",
      "y       201\n",
      "Name: pymnt_plan, dtype: int64\n",
      " 36 months    96238\n",
      " 60 months    44009\n",
      "Name: term, dtype: int64\n",
      "Source Verified    98068\n",
      "Not Verified       42179\n",
      "Name: verification_status, dtype: int64\n"
     ]
    }
   ],
   "source": [
    "for column in categorical:\n",
    "    print(sampledf[column].value_counts())"
   ]
  },
  {
   "cell_type": "code",
   "execution_count": 19,
   "metadata": {},
   "outputs": [
    {
     "name": "stdout",
     "output_type": "stream",
     "text": [
      "0    131338\n",
      "1      8909\n",
      "Name: application_type, dtype: int64\n",
      "0    132192\n",
      "1      8055\n",
      "Name: debt_settlement_flag, dtype: int64\n",
      "0    132890\n",
      "1      7357\n",
      "Name: disbursement_method, dtype: int64\n",
      "10+ years    49276\n",
      "2 years      14339\n",
      "3 years      12774\n",
      "< 1 year     11294\n",
      "1 year       10403\n",
      "4 years       9782\n",
      "5 years       9355\n",
      "6 years       6645\n",
      "8 years       5964\n",
      "7 years       5256\n",
      "9 years       5159\n",
      "Name: emp_length, dtype: int64\n",
      "C    42861\n",
      "B    36189\n",
      "D    24269\n",
      "A    20778\n",
      "E    10885\n",
      "F     4092\n",
      "G     1173\n",
      "Name: grade, dtype: int64\n",
      "0    140017\n",
      "1       230\n",
      "Name: hardship_flag, dtype: int64\n",
      "MORTGAGE    66978\n",
      "RENT        57646\n",
      "OWN         15572\n",
      "ANY            51\n",
      "Name: home_ownership, dtype: int64\n",
      "1    110918\n",
      "0     29329\n",
      "Name: initial_list_status, dtype: int64\n",
      "Satisfactory    80000\n",
      "Default         60247\n",
      "Name: loan_status, dtype: int64\n",
      "0    140046\n",
      "1       201\n",
      "Name: pymnt_plan, dtype: int64\n",
      "0    96238\n",
      "1    44009\n",
      "Name: term, dtype: int64\n",
      "1    98068\n",
      "0    42179\n",
      "Name: verification_status, dtype: int64\n"
     ]
    }
   ],
   "source": [
    "#import labelencoder\n",
    "from sklearn.preprocessing import LabelEncoder\n",
    "#instantiate labelencoder object\n",
    "le = LabelEncoder()\n",
    "binary=['application_type', 'debt_settlement_flag', 'disbursement_method', 'hardship_flag', 'initial_list_status', 'pymnt_plan', 'term','verification_status']\n",
    "sampledf[binary] = sampledf[binary].apply(lambda col: le.fit_transform(col))\n",
    "for column in categorical:\n",
    "    print(sampledf[column].value_counts())"
   ]
  },
  {
   "cell_type": "code",
   "execution_count": 20,
   "metadata": {},
   "outputs": [],
   "source": [
    "sampledf = pd.get_dummies(sampledf, columns=['home_ownership'])"
   ]
  },
  {
   "cell_type": "code",
   "execution_count": 21,
   "metadata": {},
   "outputs": [],
   "source": [
    "sampledf.replace(to_replace={'emp_length':{'< 1 year':0.5, '1 year':1, '2 years':2, '3 years':3, '4 years':4, '5 years':5, \n",
    "                                           '6 years':6, '7 years':7, '8 years':8, '9 years':9, '10 years':10, '10+ years':15}, \n",
    "                            'grade':{'G':0,'F':1, 'E':2, 'D':3, 'C':4, 'B':5, 'A':6},\n",
    "                            'loan_status':{'Default':1, 'Satisfactory':0}}, inplace=True)"
   ]
  },
  {
   "cell_type": "code",
   "execution_count": 22,
   "metadata": {},
   "outputs": [
    {
     "name": "stdout",
     "output_type": "stream",
     "text": [
      "<class 'pandas.core.frame.DataFrame'>\n",
      "Int64Index: 140247 entries, 708961 to 717404\n",
      "Data columns (total 94 columns):\n",
      "acc_now_delinq                140247 non-null float64\n",
      "acc_open_past_24mths          140247 non-null float64\n",
      "all_util                      140247 non-null float64\n",
      "annual_inc                    140247 non-null float64\n",
      "application_type              140247 non-null int64\n",
      "avg_cur_bal                   140247 non-null float64\n",
      "bc_open_to_buy                140247 non-null float64\n",
      "bc_util                       140247 non-null float64\n",
      "chargeoff_within_12_mths      140247 non-null float64\n",
      "collection_recovery_fee       140247 non-null float64\n",
      "collections_12_mths_ex_med    140247 non-null float64\n",
      "debt_settlement_flag          140247 non-null int64\n",
      "delinq_2yrs                   140247 non-null float64\n",
      "delinq_amnt                   140247 non-null float64\n",
      "disbursement_method           140247 non-null int64\n",
      "dti                           140247 non-null float64\n",
      "emp_length                    140247 non-null float64\n",
      "funded_amnt                   140247 non-null int64\n",
      "funded_amnt_inv               140247 non-null float64\n",
      "grade                         140247 non-null int64\n",
      "hardship_flag                 140247 non-null int64\n",
      "il_util                       140247 non-null float64\n",
      "initial_list_status           140247 non-null int64\n",
      "inq_fi                        140247 non-null float64\n",
      "inq_last_12m                  140247 non-null float64\n",
      "inq_last_6mths                140247 non-null float64\n",
      "installment                   140247 non-null float64\n",
      "int_rate                      140247 non-null float64\n",
      "last_pymnt_amnt               140247 non-null float64\n",
      "loan_amnt                     140247 non-null int64\n",
      "loan_status                   140247 non-null int64\n",
      "max_bal_bc                    140247 non-null float64\n",
      "mo_sin_old_il_acct            140247 non-null float64\n",
      "mo_sin_old_rev_tl_op          140247 non-null float64\n",
      "mo_sin_rcnt_rev_tl_op         140247 non-null float64\n",
      "mo_sin_rcnt_tl                140247 non-null float64\n",
      "mort_acc                      140247 non-null float64\n",
      "mths_since_rcnt_il            140247 non-null float64\n",
      "mths_since_recent_bc          140247 non-null float64\n",
      "mths_since_recent_inq         140247 non-null float64\n",
      "num_accts_ever_120_pd         140247 non-null float64\n",
      "num_actv_bc_tl                140247 non-null float64\n",
      "num_actv_rev_tl               140247 non-null float64\n",
      "num_bc_sats                   140247 non-null float64\n",
      "num_bc_tl                     140247 non-null float64\n",
      "num_il_tl                     140247 non-null float64\n",
      "num_op_rev_tl                 140247 non-null float64\n",
      "num_rev_accts                 140247 non-null float64\n",
      "num_rev_tl_bal_gt_0           140247 non-null float64\n",
      "num_sats                      140247 non-null float64\n",
      "num_tl_120dpd_2m              140247 non-null float64\n",
      "num_tl_30dpd                  140247 non-null float64\n",
      "num_tl_90g_dpd_24m            140247 non-null float64\n",
      "num_tl_op_past_12m            140247 non-null float64\n",
      "open_acc                      140247 non-null float64\n",
      "open_acc_6m                   140247 non-null float64\n",
      "open_act_il                   140247 non-null float64\n",
      "open_il_12m                   140247 non-null float64\n",
      "open_il_24m                   140247 non-null float64\n",
      "open_rv_12m                   140247 non-null float64\n",
      "open_rv_24m                   140247 non-null float64\n",
      "out_prncp                     140247 non-null float64\n",
      "out_prncp_inv                 140247 non-null float64\n",
      "pct_tl_nvr_dlq                140247 non-null float64\n",
      "percent_bc_gt_75              140247 non-null float64\n",
      "policy_code                   140247 non-null int64\n",
      "pub_rec                       140247 non-null float64\n",
      "pub_rec_bankruptcies          140247 non-null float64\n",
      "pymnt_plan                    140247 non-null int64\n",
      "recoveries                    140247 non-null float64\n",
      "revol_bal                     140247 non-null int64\n",
      "revol_util                    140247 non-null float64\n",
      "tax_liens                     140247 non-null float64\n",
      "term                          140247 non-null int64\n",
      "tot_coll_amt                  140247 non-null float64\n",
      "tot_cur_bal                   140247 non-null float64\n",
      "tot_hi_cred_lim               140247 non-null float64\n",
      "total_acc                     140247 non-null float64\n",
      "total_bal_ex_mort             140247 non-null float64\n",
      "total_bal_il                  140247 non-null float64\n",
      "total_bc_limit                140247 non-null float64\n",
      "total_cu_tl                   140247 non-null float64\n",
      "total_il_high_credit_limit    140247 non-null float64\n",
      "total_pymnt                   140247 non-null float64\n",
      "total_pymnt_inv               140247 non-null float64\n",
      "total_rec_int                 140247 non-null float64\n",
      "total_rec_late_fee            140247 non-null float64\n",
      "total_rec_prncp               140247 non-null float64\n",
      "total_rev_hi_lim              140247 non-null float64\n",
      "verification_status           140247 non-null int64\n",
      "home_ownership_ANY            140247 non-null uint8\n",
      "home_ownership_MORTGAGE       140247 non-null uint8\n",
      "home_ownership_OWN            140247 non-null uint8\n",
      "home_ownership_RENT           140247 non-null uint8\n",
      "dtypes: float64(76), int64(14), uint8(4)\n",
      "memory usage: 97.9 MB\n"
     ]
    }
   ],
   "source": [
    "#I have all the numerical variables, hence I can proceed further\n",
    "sampledf.info()"
   ]
  },
  {
   "cell_type": "markdown",
   "metadata": {},
   "source": [
    "Repeating the same pre-processing steps for the test set so that the same structure is preserved"
   ]
  },
  {
   "cell_type": "code",
   "execution_count": 23,
   "metadata": {},
   "outputs": [
    {
     "name": "stdout",
     "output_type": "stream",
     "text": [
      "0    195752\n",
      "1     79490\n",
      "Name: term, dtype: int64\n",
      "C    91873\n",
      "B    80108\n",
      "A    47413\n",
      "D    36270\n",
      "E    12817\n",
      "F     4156\n",
      "G     2605\n",
      "Name: grade, dtype: int64\n",
      "10+ years    96072\n",
      "< 1 year     29202\n",
      "2 years      27500\n",
      "3 years      23867\n",
      "1 year       19563\n",
      "4 years      18494\n",
      "5 years      17834\n",
      "6 years      13009\n",
      "7 years      10913\n",
      "9 years      10094\n",
      "8 years       8694\n",
      "Name: emp_length, dtype: int64\n",
      "MORTGAGE    140331\n",
      "RENT        105352\n",
      "OWN          29289\n",
      "ANY            270\n",
      "Name: home_ownership, dtype: int64\n",
      "1    176867\n",
      "0     98375\n",
      "Name: verification_status, dtype: int64\n",
      "Satisfactory    248528\n",
      "Default          26714\n",
      "Name: loan_status, dtype: int64\n",
      "0    275023\n",
      "1       219\n",
      "Name: pymnt_plan, dtype: int64\n",
      "1    214458\n",
      "0     60784\n",
      "Name: initial_list_status, dtype: int64\n",
      "0    248996\n",
      "1     26246\n",
      "Name: application_type, dtype: int64\n",
      "0    274948\n",
      "1       294\n",
      "Name: hardship_flag, dtype: int64\n",
      "0    272626\n",
      "1      2616\n",
      "Name: disbursement_method, dtype: int64\n",
      "0    272923\n",
      "1      2319\n",
      "Name: debt_settlement_flag, dtype: int64\n"
     ]
    }
   ],
   "source": [
    "categorical_test=test_df.select_dtypes('object')\n",
    "#Deleting the columns from the df I am working on\n",
    "test_df = test_df.drop(columns=to_drop)\n",
    "categorical_test = categorical_test.drop(columns=to_drop)\n",
    "\n",
    "#There were 3 categorical variables in the 'verification_status' column, of which 2 were looking the same, hence I will replace one of these\n",
    "test_df.replace(to_replace=['Verified'], value='Source Verified', inplace=True)\n",
    "\n",
    "test_df[binary] = test_df[binary].apply(lambda col: le.fit_transform(col))\n",
    "for column in categorical_test:\n",
    "    print(test_df[column].value_counts())\n",
    "    \n",
    "test_df = pd.get_dummies(test_df, columns=['home_ownership'])\n",
    "\n",
    "test_df.replace(to_replace={'emp_length':{'< 1 year':0.5, '1 year':1, '2 years':2, '3 years':3, '4 years':4, '5 years':5, \n",
    "                                           '6 years':6, '7 years':7, '8 years':8, '9 years':9, '10 years':10, '10+ years':15}, \n",
    "                            'grade':{'G':0,'F':1, 'E':2, 'D':3, 'C':4, 'B':5, 'A':6},\n",
    "                            'loan_status':{'Default':1, 'Satisfactory':0}}, inplace=True)"
   ]
  },
  {
   "cell_type": "code",
   "execution_count": 24,
   "metadata": {},
   "outputs": [
    {
     "name": "stdout",
     "output_type": "stream",
     "text": [
      "Train set size: 140247\n",
      "Number of defaults on train set: 60247\n",
      "Test set size: 275242\n",
      "Number of defaults on test set: 26714\n"
     ]
    }
   ],
   "source": [
    "print(\"Train set size: {}\".format(len(sampledf)))\n",
    "print(\"Number of defaults on train set: {}\".format(len(sampledf[sampledf['loan_status']==1])))\n",
    "\n",
    "print(\"Test set size: {}\".format(len(test_df)))\n",
    "print(\"Number of defaults on test set: {}\".format(len(test_df[test_df['loan_status']==1])))"
   ]
  },
  {
   "cell_type": "markdown",
   "metadata": {},
   "source": [
    "Now I am moving to the feature selection section"
   ]
  },
  {
   "cell_type": "code",
   "execution_count": 25,
   "metadata": {},
   "outputs": [
    {
     "data": {
      "text/plain": [
       "annual_inc                 0.045799\n",
       "hardship_flag              0.046704\n",
       "revol_bal                  0.048096\n",
       "mths_since_rcnt_il         0.050179\n",
       "inq_fi                     0.050280\n",
       "delinq_2yrs                0.051134\n",
       "pub_rec_bankruptcies       0.051875\n",
       "dti                        0.052169\n",
       "num_actv_rev_tl            0.054657\n",
       "num_rev_tl_bal_gt_0        0.056187\n",
       "installment                0.062515\n",
       "mo_sin_old_rev_tl_op       0.069155\n",
       "mort_acc                   0.072977\n",
       "term                       0.074459\n",
       "pub_rec                    0.077115\n",
       "max_bal_bc                 0.081896\n",
       "mths_since_recent_bc       0.083742\n",
       "initial_list_status        0.087162\n",
       "open_il_12m                0.088903\n",
       "home_ownership_RENT        0.089277\n",
       "application_type           0.091368\n",
       "mo_sin_rcnt_tl             0.091523\n",
       "mo_sin_rcnt_rev_tl_op      0.091985\n",
       "open_il_24m                0.093653\n",
       "home_ownership_MORTGAGE    0.094479\n",
       "tot_cur_bal                0.097291\n",
       "revol_util                 0.097767\n",
       "open_acc_6m                0.100065\n",
       "il_util                    0.100529\n",
       "mths_since_recent_inq      0.100804\n",
       "avg_cur_bal                0.101145\n",
       "open_rv_12m                0.101672\n",
       "bc_util                    0.107764\n",
       "inq_last_12m               0.108257\n",
       "percent_bc_gt_75           0.108934\n",
       "inq_last_6mths             0.112599\n",
       "tot_hi_cred_lim            0.117697\n",
       "total_rev_hi_lim           0.119585\n",
       "total_pymnt                0.120403\n",
       "total_pymnt_inv            0.120437\n",
       "num_tl_op_past_12m         0.122628\n",
       "open_rv_24m                0.127070\n",
       "total_rec_int              0.129200\n",
       "total_bc_limit             0.140283\n",
       "disbursement_method        0.140742\n",
       "acc_open_past_24mths       0.141924\n",
       "bc_open_to_buy             0.147391\n",
       "verification_status        0.149172\n",
       "all_util                   0.151758\n",
       "total_rec_late_fee         0.172798\n",
       "total_rec_prncp            0.259271\n",
       "last_pymnt_amnt            0.272578\n",
       "debt_settlement_flag       0.284265\n",
       "int_rate                   0.295820\n",
       "grade                      0.334834\n",
       "out_prncp_inv              0.380313\n",
       "out_prncp                  0.380345\n",
       "collection_recovery_fee    0.392023\n",
       "recoveries                 0.398264\n",
       "loan_status                1.000000\n",
       "dtype: float64"
      ]
     },
     "execution_count": 25,
     "metadata": {},
     "output_type": "execute_result"
    }
   ],
   "source": [
    "#Checking the correlations of all the variables with the dependent variable\n",
    "corrsample=sampledf.corrwith(sampledf['loan_status']).abs()\n",
    "corrsample = corrsample.sort_values(kind=\"quicksort\")\n",
    "corrsample.dropna(axis=0, how='any', inplace=True)\n",
    "corrsample.tail(60)"
   ]
  },
  {
   "cell_type": "markdown",
   "metadata": {},
   "source": [
    "When I look at how the predictors are correlated with the dependent variable, no visible threshold lightens up. I don't have a situation where a few variables are strongly correlated with the variable of interest and the rest is very poorly (if that was the case, I would've dropped the poorly correlated predictors). However, by including all the variables I expose myself to the risk of overfitting. Hence, I will use a threshold of pearson's r>0.05 (5%). This will give me 56 variables to work with. Next, I will look at the interdependencies between columns and drop the highly correlated ones. I do so to avoid overfitting of the model, which could occur if the variables were strongly interdependent."
   ]
  },
  {
   "cell_type": "code",
   "execution_count": 26,
   "metadata": {},
   "outputs": [],
   "source": [
    "corrsample=corrsample.where(corrsample>=0.05)\n",
    "corrsample.dropna(axis=0, how='any', inplace=True)"
   ]
  },
  {
   "cell_type": "code",
   "execution_count": 27,
   "metadata": {},
   "outputs": [],
   "source": [
    "#Creating a new dataframe holding the data of the values most correlated with 'loan_status'\n",
    "corrsampledf=sampledf[sampledf.columns.intersection(corrsample.index)]"
   ]
  },
  {
   "cell_type": "code",
   "execution_count": 28,
   "metadata": {},
   "outputs": [
    {
     "data": {
      "image/png": "[encoded data removed]",
      "text/plain": [
       "<Figure size 432x288 with 3 Axes>"
      ]
     },
     "metadata": {
      "needs_background": "light"
     },
     "output_type": "display_data"
    }
   ],
   "source": [
    "correlations = corrsampledf.corr()\n",
    "fig = plt.figure()\n",
    "ax = fig.add_subplot(111)\n",
    "ax = fig.add_axes([0,0,3,3])\n",
    "cax = ax.matshow(correlations,cmap='coolwarm', vmin=0, vmax=1)\n",
    "fig.colorbar(cax)\n",
    "ticks = np.arange(0,len(correlations.columns),1)\n",
    "ax.set_xticks(ticks)\n",
    "plt.xticks(rotation=90)\n",
    "ax.set_yticks(ticks)\n",
    "ax.set_xticklabels(corrsampledf.columns)\n",
    "ax.set_yticklabels(corrsampledf.columns)\n",
    "plt.show()"
   ]
  },
  {
   "cell_type": "markdown",
   "metadata": {},
   "source": [
    "As one can see from the heatmap, there are a couple of pairs that are quite strongly correlated with one another. These are:\n",
    "- recoveries and collection_recovery_fee\n",
    "- tot_hi_cred_lim and avg_cur_bal\n",
    "- tot_cur_bal and avg_cur_bal\n",
    "- total_bc_limit and bc_open_to_buy\n",
    "- revol_util and bc_util\n",
    "- percent_bc_gt_75 and bc_util\n",
    "- total_rec_prncp and total_pymnt\n",
    "- total_rec_prncp and total_pymnt_inv\n",
    "- out_prncp and out_prncp_inv\n",
    "- num_actv_rev_tl and num_actv_rev_0\n",
    "\n",
    "I will look at the correlations with the dependent variable of the columns in pairs and drop the ones which are less correlated."
   ]
  },
  {
   "cell_type": "code",
   "execution_count": 29,
   "metadata": {},
   "outputs": [],
   "source": [
    "to_drop=['collection_recovery_fee', 'avg_cur_bal', 'total_bc_limit', 'bc_util', 'total_pymnt_inv', 'out_prncp_inv', 'num_actv_rev_tl']\n",
    "corrsample=corrsample.drop(to_drop)\n",
    "#By calling the function .intersection, I will drop all the columns that I do not wish to use\n",
    "corrsampledf=sampledf[sampledf.columns.intersection(corrsample.index)]"
   ]
  },
  {
   "cell_type": "code",
   "execution_count": 30,
   "metadata": {},
   "outputs": [
    {
     "name": "stdout",
     "output_type": "stream",
     "text": [
      "<class 'pandas.core.frame.DataFrame'>\n",
      "Int64Index: 140247 entries, 708961 to 717404\n",
      "Data columns (total 50 columns):\n",
      "acc_open_past_24mths       140247 non-null float64\n",
      "all_util                   140247 non-null float64\n",
      "application_type           140247 non-null int64\n",
      "bc_open_to_buy             140247 non-null float64\n",
      "debt_settlement_flag       140247 non-null int64\n",
      "delinq_2yrs                140247 non-null float64\n",
      "disbursement_method        140247 non-null int64\n",
      "dti                        140247 non-null float64\n",
      "grade                      140247 non-null int64\n",
      "il_util                    140247 non-null float64\n",
      "initial_list_status        140247 non-null int64\n",
      "inq_fi                     140247 non-null float64\n",
      "inq_last_12m               140247 non-null float64\n",
      "inq_last_6mths             140247 non-null float64\n",
      "installment                140247 non-null float64\n",
      "int_rate                   140247 non-null float64\n",
      "last_pymnt_amnt            140247 non-null float64\n",
      "loan_status                140247 non-null int64\n",
      "max_bal_bc                 140247 non-null float64\n",
      "mo_sin_old_rev_tl_op       140247 non-null float64\n",
      "mo_sin_rcnt_rev_tl_op      140247 non-null float64\n",
      "mo_sin_rcnt_tl             140247 non-null float64\n",
      "mort_acc                   140247 non-null float64\n",
      "mths_since_rcnt_il         140247 non-null float64\n",
      "mths_since_recent_bc       140247 non-null float64\n",
      "mths_since_recent_inq      140247 non-null float64\n",
      "num_rev_tl_bal_gt_0        140247 non-null float64\n",
      "num_tl_op_past_12m         140247 non-null float64\n",
      "open_acc_6m                140247 non-null float64\n",
      "open_il_12m                140247 non-null float64\n",
      "open_il_24m                140247 non-null float64\n",
      "open_rv_12m                140247 non-null float64\n",
      "open_rv_24m                140247 non-null float64\n",
      "out_prncp                  140247 non-null float64\n",
      "percent_bc_gt_75           140247 non-null float64\n",
      "pub_rec                    140247 non-null float64\n",
      "pub_rec_bankruptcies       140247 non-null float64\n",
      "recoveries                 140247 non-null float64\n",
      "revol_util                 140247 non-null float64\n",
      "term                       140247 non-null int64\n",
      "tot_cur_bal                140247 non-null float64\n",
      "tot_hi_cred_lim            140247 non-null float64\n",
      "total_pymnt                140247 non-null float64\n",
      "total_rec_int              140247 non-null float64\n",
      "total_rec_late_fee         140247 non-null float64\n",
      "total_rec_prncp            140247 non-null float64\n",
      "total_rev_hi_lim           140247 non-null float64\n",
      "verification_status        140247 non-null int64\n",
      "home_ownership_MORTGAGE    140247 non-null uint8\n",
      "home_ownership_RENT        140247 non-null uint8\n",
      "dtypes: float64(40), int64(8), uint8(2)\n",
      "memory usage: 52.7 MB\n"
     ]
    }
   ],
   "source": [
    "corrsampledf.info()"
   ]
  },
  {
   "cell_type": "markdown",
   "metadata": {},
   "source": [
    "Now, I want to drop the columns from the test set that have been dropped from the training set in the previous steps"
   ]
  },
  {
   "cell_type": "code",
   "execution_count": 31,
   "metadata": {},
   "outputs": [],
   "source": [
    "test_df = test_df[corrsampledf.columns]"
   ]
  },
  {
   "cell_type": "markdown",
   "metadata": {},
   "source": [
    "Now, I can mve to training the first model"
   ]
  },
  {
   "cell_type": "code",
   "execution_count": 32,
   "metadata": {},
   "outputs": [],
   "source": [
    "X_train = corrsampledf.iloc[:,corrsampledf.columns != 'loan_status']\n",
    "y_train = corrsampledf[['loan_status']]\n",
    "\n",
    "X_test = test_df.iloc[:,test_df.columns != 'loan_status']\n",
    "y_test = test_df[['loan_status']]"
   ]
  },
  {
   "cell_type": "code",
   "execution_count": 33,
   "metadata": {},
   "outputs": [
    {
     "name": "stderr",
     "output_type": "stream",
     "text": [
      "/Users/kubawarmuz/anaconda3/lib/python3.7/site-packages/sklearn/utils/validation.py:73: DataConversionWarning: A column-vector y was passed when a 1d array was expected. Please change the shape of y to (n_samples, ), for example using ravel().\n",
      "  return f(**kwargs)\n",
      "/Users/kubawarmuz/anaconda3/lib/python3.7/site-packages/sklearn/linear_model/_logistic.py:764: ConvergenceWarning: lbfgs failed to converge (status=1):\n",
      "STOP: TOTAL NO. of ITERATIONS REACHED LIMIT.\n",
      "\n",
      "Increase the number of iterations (max_iter) or scale the data as shown in:\n",
      "    https://scikit-learn.org/stable/modules/preprocessing.html\n",
      "Please also refer to the documentation for alternative solver options:\n",
      "    https://scikit-learn.org/stable/modules/linear_model.html#logistic-regression\n",
      "  extra_warning_msg=_LOGISTIC_SOLVER_CONVERGENCE_MSG)\n"
     ]
    }
   ],
   "source": [
    "from sklearn.linear_model import LogisticRegression\n",
    "logmodel = LogisticRegression()\n",
    "logmodel.fit(X_train,y_train)\n",
    "lr_probs = logmodel.predict_proba(X_test)\n",
    "LR_predictions = logmodel.predict(X_test)"
   ]
  },
  {
   "cell_type": "code",
   "execution_count": 34,
   "metadata": {},
   "outputs": [
    {
     "name": "stdout",
     "output_type": "stream",
     "text": [
      "              precision    recall  f1-score   support\n",
      "\n",
      "           0       0.98      0.96      0.97    248528\n",
      "           1       0.68      0.80      0.73     26714\n",
      "\n",
      "    accuracy                           0.94    275242\n",
      "   macro avg       0.83      0.88      0.85    275242\n",
      "weighted avg       0.95      0.94      0.95    275242\n",
      "\n",
      "[[238405  10123]\n",
      " [  5415  21299]]\n"
     ]
    }
   ],
   "source": [
    "from sklearn.metrics import classification_report, accuracy_score, confusion_matrix\n",
    "print(classification_report(y_test,LR_predictions))\n",
    "print(confusion_matrix(y_test, LR_predictions))"
   ]
  },
  {
   "cell_type": "code",
   "execution_count": 35,
   "metadata": {},
   "outputs": [
    {
     "name": "stdout",
     "output_type": "stream",
     "text": [
      "Logistic Regression ROC AUC:0.9284054072405726\n"
     ]
    },
    {
     "data": {
      "image/png": "[encoded data removed]",
      "text/plain": [
       "<Figure size 432x288 with 1 Axes>"
      ]
     },
     "metadata": {
      "needs_background": "light"
     },
     "output_type": "display_data"
    }
   ],
   "source": [
    "import sklearn.metrics as metrics\n",
    "from sklearn.metrics import roc_curve, roc_auc_score\n",
    "\n",
    "fpr, tpr, thresholds = roc_curve(y_test, LR_predictions)\n",
    "#baseline probability\n",
    "bs_probs = [0 for _ in range(len(y_test))]\n",
    "#taking only the probabilities for 1s (predict_proba outputs the probability for each class in the label)\n",
    "lr_probs = lr_probs[:, 1]\n",
    "lr_auc = roc_auc_score(y_test, lr_probs)\n",
    "bs_auc = roc_auc_score(y_test, bs_probs)\n",
    "print(\"Logistic Regression ROC AUC:{}\".format(lr_auc))\n",
    "\n",
    "lr_fpr, lr_tpr, _ = roc_curve(y_test, lr_probs)\n",
    "bs_fpr, bs_tpr, _ = roc_curve(y_test, bs_probs)\n",
    "\n",
    "#Plotting the curve\n",
    "fig = plt.figure() #defining a figure\n",
    "ax = fig.add_axes([0,0,1.5,1.5]) #setting axes\n",
    "plt.plot(lr_fpr, lr_tpr, marker='.', label='LR') \n",
    "plt.plot(bs_fpr, bs_tpr, linestyle='--', label='Baseline')\n",
    "#adding x- and y-axis labels\n",
    "plt.xlabel('False Positive Rate')\n",
    "plt.ylabel('True Positive Rate')\n",
    "#show legend\n",
    "plt.legend()\n",
    "# show the plot\n",
    "plt.show()"
   ]
  },
  {
   "cell_type": "code",
   "execution_count": 36,
   "metadata": {},
   "outputs": [
    {
     "name": "stdout",
     "output_type": "stream",
     "text": [
      "Logistic Regression F1 Score:0.7327301499931196\n"
     ]
    },
    {
     "data": {
      "image/png": "[encoded data removed]",
      "text/plain": [
       "<Figure size 432x288 with 1 Axes>"
      ]
     },
     "metadata": {
      "needs_background": "light"
     },
     "output_type": "display_data"
    }
   ],
   "source": [
    "from sklearn.metrics import precision_recall_curve, f1_score, auc\n",
    "\n",
    "lr_precision, lr_recall, _ = precision_recall_curve(y_test, lr_probs)\n",
    "lr_f1, lr_auc = f1_score(y_test, LR_predictions), auc(lr_recall, lr_precision)\n",
    "print(\"Logistic Regression F1 Score:{}\".format(lr_f1))\n",
    "baseline = (len(y_test[y_test['loan_status']==1]) / len(y_test))\n",
    "#Plotting the curve\n",
    "fig = plt.figure() #defining a figure\n",
    "ax = fig.add_axes([0,0,1.5,1.5]) #setting axes\n",
    "plt.plot([0, 1], [baseline, baseline], linestyle='--', label='Baseline')\n",
    "plt.plot(lr_recall, lr_precision, marker='.', label='LR')\n",
    "# axis labels\n",
    "plt.xlabel('Recall')\n",
    "plt.ylabel('Precision')\n",
    "# show the legend\n",
    "plt.legend()\n",
    "# show the plot\n",
    "plt.show()"
   ]
  },
  {
   "cell_type": "markdown",
   "metadata": {},
   "source": [
    "Now, I will attempt to build a Random Forest. I will use the same variables as in the Logistic Regression since they seemed to have the highest correlation rates and proved to be a quite effective combination of predictors."
   ]
  },
  {
   "cell_type": "code",
   "execution_count": 37,
   "metadata": {},
   "outputs": [
    {
     "name": "stderr",
     "output_type": "stream",
     "text": [
      "/Users/kubawarmuz/anaconda3/lib/python3.7/site-packages/ipykernel_launcher.py:3: DataConversionWarning: A column-vector y was passed when a 1d array was expected. Please change the shape of y to (n_samples,), for example using ravel().\n",
      "  This is separate from the ipykernel package so we can avoid doing imports until\n"
     ]
    }
   ],
   "source": [
    "from sklearn.ensemble import RandomForestClassifier\n",
    "rfc = RandomForestClassifier(n_estimators=100)\n",
    "rfc.fit(X_train,y_train)\n",
    "rf_probs = rfc.predict_proba(X_test)\n",
    "RF_predictions = rfc.predict(X_test)"
   ]
  },
  {
   "cell_type": "code",
   "execution_count": 38,
   "metadata": {},
   "outputs": [
    {
     "name": "stdout",
     "output_type": "stream",
     "text": [
      "              precision    recall  f1-score   support\n",
      "\n",
      "           0       0.98      0.98      0.98    248528\n",
      "           1       0.84      0.85      0.85     26714\n",
      "\n",
      "    accuracy                           0.97    275242\n",
      "   macro avg       0.91      0.92      0.91    275242\n",
      "weighted avg       0.97      0.97      0.97    275242\n",
      "\n",
      "[[244129   4399]\n",
      " [  3884  22830]]\n"
     ]
    }
   ],
   "source": [
    "print(classification_report(y_test,RF_predictions))\n",
    "print(confusion_matrix(y_test,RF_predictions))"
   ]
  },
  {
   "cell_type": "code",
   "execution_count": 39,
   "metadata": {},
   "outputs": [
    {
     "name": "stdout",
     "output_type": "stream",
     "text": [
      "Random Forest ROC AUC:0.9570138440587004\n"
     ]
    },
    {
     "data": {
      "image/png": "[encoded data removed]",
      "text/plain": [
       "<Figure size 432x288 with 1 Axes>"
      ]
     },
     "metadata": {
      "needs_background": "light"
     },
     "output_type": "display_data"
    }
   ],
   "source": [
    "fpr, tpr, thresholds = roc_curve(y_test, RF_predictions)\n",
    "#baseline probability\n",
    "bs_probs = [0 for _ in range(len(y_test))]\n",
    "rf_probs = rf_probs[:, 1]\n",
    "rf_auc = roc_auc_score(y_test, rf_probs)\n",
    "bs_auc = roc_auc_score(y_test, bs_probs)\n",
    "print(\"Random Forest ROC AUC:{}\".format(rf_auc))\n",
    "\n",
    "rf_fpr, rf_tpr, _ = roc_curve(y_test, rf_probs)\n",
    "bs_fpr, bs_tpr, _ = roc_curve(y_test, bs_probs)\n",
    "\n",
    "#Plotting the curve\n",
    "fig = plt.figure() #defining a figure\n",
    "ax = fig.add_axes([0,0,1.5,1.5]) #setting axes\n",
    "plt.plot(rf_fpr, rf_tpr, marker='.', label='RF') \n",
    "plt.plot(bs_fpr, bs_tpr, linestyle='--', label='Baseline')\n",
    "#adding x- and y-axis labels\n",
    "plt.xlabel('False Positive Rate')\n",
    "plt.ylabel('True Positive Rate')\n",
    "#show legend\n",
    "plt.legend()\n",
    "# show the plot\n",
    "plt.show()"
   ]
  },
  {
   "cell_type": "code",
   "execution_count": 40,
   "metadata": {},
   "outputs": [
    {
     "name": "stdout",
     "output_type": "stream",
     "text": [
      "Random Forest F1 Score:0.8464490295311717\n"
     ]
    },
    {
     "data": {
      "image/png": "[encoded data removed]",
      "text/plain": [
       "<Figure size 432x288 with 1 Axes>"
      ]
     },
     "metadata": {
      "needs_background": "light"
     },
     "output_type": "display_data"
    }
   ],
   "source": [
    "from sklearn.metrics import precision_recall_curve, f1_score, auc\n",
    "\n",
    "rf_precision, rf_recall, _ = precision_recall_curve(y_test, rf_probs)\n",
    "rf_f1, rf_auc = f1_score(y_test, RF_predictions), auc(rf_recall, rf_precision)\n",
    "print(\"Random Forest F1 Score:{}\".format(rf_f1))\n",
    "baseline = (len(y_test[y_test['loan_status']==1]) / len(y_test))\n",
    "#Plotting the curve\n",
    "fig = plt.figure() #defining a figure\n",
    "ax = fig.add_axes([0,0,1.5,1.5]) #setting axes\n",
    "plt.plot([0, 1], [baseline, baseline], linestyle='--', label='Baseline')\n",
    "plt.plot(rf_recall, rf_precision, marker='.', label='RF')\n",
    "# axis labels\n",
    "plt.xlabel('Recall')\n",
    "plt.ylabel('Precision')\n",
    "# show the legend\n",
    "plt.legend()\n",
    "# show the plot\n",
    "plt.show()"
   ]
  },
  {
   "cell_type": "markdown",
   "metadata": {},
   "source": [
    "As one can see, the model has performed slightly better than the Logistic Regression, judging by the ROC AUC. However, the F1 score improvement is significant. Thus, RF becomes the best performing model. Now, I will try to create a new model, using XGBoost."
   ]
  },
  {
   "cell_type": "code",
   "execution_count": 41,
   "metadata": {},
   "outputs": [
    {
     "name": "stderr",
     "output_type": "stream",
     "text": [
      "/Users/kubawarmuz/anaconda3/lib/python3.7/site-packages/sklearn/utils/validation.py:73: DataConversionWarning: A column-vector y was passed when a 1d array was expected. Please change the shape of y to (n_samples, ), for example using ravel().\n",
      "  return f(**kwargs)\n",
      "/Users/kubawarmuz/anaconda3/lib/python3.7/site-packages/sklearn/utils/validation.py:73: DataConversionWarning: A column-vector y was passed when a 1d array was expected. Please change the shape of y to (n_samples, ), for example using ravel().\n",
      "  return f(**kwargs)\n"
     ]
    }
   ],
   "source": [
    "import os\n",
    "os.environ['KMP_DUPLICATE_LIB_OK']='True'\n",
    "#above two lines were to handle an error that I kept on getting\n",
    "#Importing necessary libraries\n",
    "from xgboost import XGBClassifier\n",
    "import xgboost as xgb\n",
    "from sklearn.metrics import mean_squared_error\n",
    "\n",
    "#Turning data into a matrix required by XGBoost\n",
    "data_dmatrix = xgb.DMatrix(data=X_train,label=y_train)\n",
    "#Building a model with chosen parameters (based on research and intuition)\n",
    "XGB_model = xgb.XGBClassifier(objective ='binary:logistic', colsample_bytree = 0.3, learning_rate = 0.3,\n",
    "                max_depth = 6, alpha = 10, n_estimators = 20, eval_metric='auc')\n",
    "\n",
    "XGB_model.fit(X_train,y_train)\n",
    "xgb_probs = XGB_model.predict_proba(X_test)\n",
    "XGB_preds = XGB_model.predict(X_test)"
   ]
  },
  {
   "cell_type": "code",
   "execution_count": 42,
   "metadata": {},
   "outputs": [
    {
     "name": "stdout",
     "output_type": "stream",
     "text": [
      "Random Forest ROC AUC:0.9597489345709552\n"
     ]
    },
    {
     "data": {
      "image/png": "[encoded data removed]",
      "text/plain": [
       "<Figure size 432x288 with 1 Axes>"
      ]
     },
     "metadata": {
      "needs_background": "light"
     },
     "output_type": "display_data"
    }
   ],
   "source": [
    "fpr, tpr, thresholds = roc_curve(y_test, XGB_preds)\n",
    "#baseline probability\n",
    "bs_probs = [0 for _ in range(len(y_test))]\n",
    "xgb_probs = xgb_probs[:, 1]\n",
    "xgb_auc = roc_auc_score(y_test, xgb_probs)\n",
    "bs_auc = roc_auc_score(y_test, bs_probs)\n",
    "print(\"Random Forest ROC AUC:{}\".format(xgb_auc))\n",
    "\n",
    "xgb_fpr, xgb_tpr, _ = roc_curve(y_test, xgb_probs)\n",
    "bs_fpr, bs_tpr, _ = roc_curve(y_test, bs_probs)\n",
    "\n",
    "#Plotting the curve\n",
    "fig = plt.figure() #defining a figure\n",
    "ax = fig.add_axes([0,0,1.5,1.5]) #setting axes\n",
    "plt.plot(xgb_fpr, xgb_tpr, marker='.', label='XGB') \n",
    "plt.plot(bs_fpr, bs_tpr, linestyle='--', label='Baseline')\n",
    "#adding x- and y-axis labels\n",
    "plt.xlabel('False Positive Rate')\n",
    "plt.ylabel('True Positive Rate')\n",
    "#show legend\n",
    "plt.legend()\n",
    "# show the plot\n",
    "plt.show()"
   ]
  },
  {
   "cell_type": "code",
   "execution_count": 43,
   "metadata": {},
   "outputs": [
    {
     "name": "stdout",
     "output_type": "stream",
     "text": [
      "              precision    recall  f1-score   support\n",
      "\n",
      "           0       0.98      0.98      0.98    248528\n",
      "           1       0.79      0.85      0.82     26714\n",
      "\n",
      "    accuracy                           0.96    275242\n",
      "   macro avg       0.89      0.91      0.90    275242\n",
      "weighted avg       0.97      0.96      0.96    275242\n",
      "\n",
      "[[242684   5844]\n",
      " [  4083  22631]]\n"
     ]
    }
   ],
   "source": [
    "print(classification_report(y_test,XGB_preds))\n",
    "print(confusion_matrix(y_test,XGB_preds))"
   ]
  },
  {
   "cell_type": "code",
   "execution_count": 44,
   "metadata": {},
   "outputs": [
    {
     "name": "stdout",
     "output_type": "stream",
     "text": [
      "XGB F1 Score:0.8201271992607223\n"
     ]
    },
    {
     "data": {
      "image/png": "[encoded data removed]",
      "text/plain": [
       "<Figure size 432x288 with 1 Axes>"
      ]
     },
     "metadata": {
      "needs_background": "light"
     },
     "output_type": "display_data"
    }
   ],
   "source": [
    "from sklearn.metrics import precision_recall_curve, f1_score, auc\n",
    "\n",
    "xgb_precision, xgb_recall, _ = precision_recall_curve(y_test, xgb_probs)\n",
    "xgb_f1, xgb_auc = f1_score(y_test, XGB_preds), auc(xgb_recall, xgb_precision)\n",
    "print(\"XGB F1 Score:{}\".format(xgb_f1))\n",
    "baseline = (len(y_test[y_test['loan_status']==1]) / len(y_test))\n",
    "#Plotting the curve\n",
    "fig = plt.figure() #defining a figure\n",
    "ax = fig.add_axes([0,0,1.5,1.5]) #setting axes\n",
    "plt.plot([0, 1], [baseline, baseline], linestyle='--', label='Baseline')\n",
    "plt.plot(xgb_recall, xgb_precision, marker='.', label='XGB')\n",
    "# axis labels\n",
    "plt.xlabel('Recall')\n",
    "plt.ylabel('Precision')\n",
    "# show the legend\n",
    "plt.legend()\n",
    "# show the plot\n",
    "plt.show()"
   ]
  },
  {
   "cell_type": "markdown",
   "metadata": {},
   "source": [
    "The XGBoost model has performed very well on the data. With the default parameters, it delivered ~.96 AUC, becoming the new best performing algorithm by the ROC AUC metric, before Logistic Regression and Random Forest. One advantage the XGBoost model might have over the remaining 2 algorithms is that it is parallelizable, making it more feasible for huge datasets and more time efficient, and has multiple parameters that can be tuned, hence delivering bigger flexibility to the dataset. However, XGB's F1 score is worse by 2 percentage points than that of the Random Forest. "
   ]
  },
  {
   "cell_type": "markdown",
   "metadata": {},
   "source": [
    "At this point, I will choose which algorithm to further perform hyperparameter tuning on. The choice is between Random Forest which had a better F1 score and XGBoost, which had a higher ROC AUC. To choose which model is better in this case, one should look at the distribution of the dependent variable. We have a rather unbalanced dataset. In such instances, ROC AUC might not be the best metric to decide the model performance on. It would be better to look at the confisuion matrix, analyze its False Positive and False Negative rates, and choose the model which corresponds with the business needs better. In case of this project, I am more concerned about having a lot of Type II errors, while I'm ready to accept some Type I ones. It is because not detecting a client who will default (Type II error i.e. False Negative) can be more detrimental to the business than identifying a reliable client as a potential defaulter and rejecting their loan application. In fact, Random Forest has less False Negatives (3884) than XGB (4083), leading me to favor RF. Furthermore, we can use F1 metric. F1 score takes the tradeoff between minimizing FPR and FNR into account and can be a more reliable metric than simple ROC AUC. Judging by this metric, Random Forest is also a better performer. Thus, I will decide to use Random Forest as the final algorithm, and will attempt hyperparameter tuning to find the best combination of parameters. It is, however, worth acknowledging that tuning other algorithms could've delivered better results. Further steps could include trying to train the models (at least the top performing 3) on more (or less - but unlikely to get better results) features."
   ]
  },
  {
   "cell_type": "code",
   "execution_count": 49,
   "metadata": {},
   "outputs": [
    {
     "name": "stdout",
     "output_type": "stream",
     "text": [
      "Fitting 5 folds for each of 10 candidates, totalling 50 fits\n"
     ]
    },
    {
     "name": "stderr",
     "output_type": "stream",
     "text": [
      "[Parallel(n_jobs=-1)]: Using backend LokyBackend with 8 concurrent workers.\n",
      "[Parallel(n_jobs=-1)]: Done  34 tasks      | elapsed: 12.8min\n",
      "[Parallel(n_jobs=-1)]: Done  50 out of  50 | elapsed: 18.9min finished\n",
      "/Users/kubawarmuz/anaconda3/lib/python3.7/site-packages/sklearn/model_selection/_search.py:765: DataConversionWarning: A column-vector y was passed when a 1d array was expected. Please change the shape of y to (n_samples,), for example using ravel().\n",
      "  self.best_estimator_.fit(X, y, **fit_params)\n"
     ]
    },
    {
     "name": "stdout",
     "output_type": "stream",
     "text": [
      "{'n_estimators': 200, 'min_samples_split': 10, 'max_depth': None}\n",
      "Best oob score: 0.9401679791931606\n"
     ]
    }
   ],
   "source": [
    "#I will use a random grid search because of the computational power constraints\n",
    "from sklearn.model_selection import RandomizedSearchCV\n",
    "#constructing a parameters grid\n",
    "param_grid = {'n_estimators':[50, 100, 200, 500],\n",
    "             'max_depth':[None, 10, 25, 50],\n",
    "             'min_samples_split':[2, 5, 10, 30]\n",
    "             }\n",
    "rfc = RandomForestClassifier(oob_score=True)\n",
    "RF_rand = RandomizedSearchCV(estimator = rfc, \n",
    "                            param_distributions = param_grid,\n",
    "                            cv = 5, \n",
    "                            scoring = 'f1', \n",
    "                            verbose=1, \n",
    "                            n_jobs = -1)\n",
    "RF_rand.fit(X_train, y_train)\n",
    "\n",
    "print(RF_rand.best_params_)\n",
    "print(\"Best oob score: {}\".format(RF_rand.best_score_))"
   ]
  },
  {
   "cell_type": "code",
   "execution_count": 51,
   "metadata": {},
   "outputs": [
    {
     "name": "stderr",
     "output_type": "stream",
     "text": [
      "/Users/kubawarmuz/anaconda3/lib/python3.7/site-packages/ipykernel_launcher.py:3: DataConversionWarning: A column-vector y was passed when a 1d array was expected. Please change the shape of y to (n_samples,), for example using ravel().\n",
      "  This is separate from the ipykernel package so we can avoid doing imports until\n"
     ]
    },
    {
     "name": "stdout",
     "output_type": "stream",
     "text": [
      "              precision    recall  f1-score   support\n",
      "\n",
      "           0       0.98      0.98      0.98    248528\n",
      "           1       0.84      0.86      0.85     26714\n",
      "\n",
      "    accuracy                           0.97    275242\n",
      "   macro avg       0.91      0.92      0.91    275242\n",
      "weighted avg       0.97      0.97      0.97    275242\n",
      "\n",
      "[[244013   4515]\n",
      " [  3862  22852]]\n"
     ]
    }
   ],
   "source": [
    "#Training the final model with the best parameters\n",
    "final_rfc = RandomForestClassifier(n_estimators=200, min_samples_split=10, max_depth=None)\n",
    "final_rfc.fit(X_train,y_train)\n",
    "rf_probs = final_rfc.predict_proba(X_test)\n",
    "RF_predictions = final_rfc.predict(X_test)\n",
    "print(classification_report(y_test,RF_predictions))\n",
    "print(confusion_matrix(y_test,RF_predictions))"
   ]
  },
  {
   "cell_type": "code",
   "execution_count": 52,
   "metadata": {},
   "outputs": [
    {
     "name": "stdout",
     "output_type": "stream",
     "text": [
      "Random Forest ROC AUC:0.9580447347863084\n"
     ]
    },
    {
     "data": {
      "image/png": "[encoded data removed]",
      "text/plain": [
       "<Figure size 432x288 with 1 Axes>"
      ]
     },
     "metadata": {
      "needs_background": "light"
     },
     "output_type": "display_data"
    }
   ],
   "source": [
    "fpr, tpr, thresholds = roc_curve(y_test, RF_predictions)\n",
    "#baseline probability\n",
    "bs_probs = [0 for _ in range(len(y_test))]\n",
    "rf_probs = rf_probs[:, 1]\n",
    "rf_auc = roc_auc_score(y_test, rf_probs)\n",
    "bs_auc = roc_auc_score(y_test, bs_probs)\n",
    "print(\"Random Forest ROC AUC:{}\".format(rf_auc))\n",
    "\n",
    "rf_fpr, rf_tpr, _ = roc_curve(y_test, rf_probs)\n",
    "bs_fpr, bs_tpr, _ = roc_curve(y_test, bs_probs)\n",
    "\n",
    "#Plotting the curve\n",
    "fig = plt.figure() #defining a figure\n",
    "ax = fig.add_axes([0,0,1.5,1.5]) #setting axes\n",
    "plt.plot(rf_fpr, rf_tpr, marker='.', label='RF') \n",
    "plt.plot(bs_fpr, bs_tpr, linestyle='--', label='Baseline')\n",
    "#adding x- and y-axis labels\n",
    "plt.xlabel('False Positive Rate')\n",
    "plt.ylabel('True Positive Rate')\n",
    "#show legend\n",
    "plt.legend()\n",
    "# show the plot\n",
    "plt.show()"
   ]
  },
  {
   "cell_type": "code",
   "execution_count": 53,
   "metadata": {},
   "outputs": [
    {
     "name": "stdout",
     "output_type": "stream",
     "text": [
      "Random Forest F1 Score:0.8451027162959264\n"
     ]
    },
    {
     "data": {
      "image/png": "[encoded data removed]",
      "text/plain": [
       "<Figure size 432x288 with 1 Axes>"
      ]
     },
     "metadata": {
      "needs_background": "light"
     },
     "output_type": "display_data"
    }
   ],
   "source": [
    "rf_precision, rf_recall, _ = precision_recall_curve(y_test, rf_probs)\n",
    "rf_f1, rf_auc = f1_score(y_test, RF_predictions), auc(rf_recall, rf_precision)\n",
    "print(\"Random Forest F1 Score:{}\".format(rf_f1))\n",
    "baseline = (len(y_test[y_test['loan_status']==1]) / len(y_test))\n",
    "#Plotting the curve\n",
    "fig = plt.figure() #defining a figure\n",
    "ax = fig.add_axes([0,0,1.5,1.5]) #setting axes\n",
    "plt.plot([0, 1], [baseline, baseline], linestyle='--', label='Baseline')\n",
    "plt.plot(rf_recall, rf_precision, marker='.', label='RF')\n",
    "# axis labels\n",
    "plt.xlabel('Recall')\n",
    "plt.ylabel('Precision')\n",
    "# show the legend\n",
    "plt.legend()\n",
    "# show the plot\n",
    "plt.show()"
   ]
  },
  {
   "cell_type": "markdown",
   "metadata": {},
   "source": [
    "The performance of the algorithm didn't improve significantly after hyperparameter tuning, although the number of True Positives has increased, and at the end, this is what one cares about the most. As it is now, the model could provide a lot of business benefits, however, before the deployment on production, it would need some refinement (e.g. trying the model with different set of features, e.g. by including more categrical variables)."
   ]
  },
  {
   "cell_type": "markdown",
   "metadata": {},
   "source": [
    "# Conclusions\n",
    "The client that I am working for has had 12.6% of loans running on default. After the entire process of data processing, I obtained a model that was accurate in judging whether or not the loan will get defaulted in 95%. The recall metric, which tells us what percentage of positives the model labeled as such (what fraction of defaults were predicted to be defaults) is 0.86. It means that implementing this model in the lending platform that I work for and basing all decisions of whether or not the loan should be issued on this model, the client could 86% of bad loans that have been issued. I believe that it is a promising solution, which is worth pursuing. It is possible that with more thorough development of the algorithm, I could obtain even higher recall, for example around 90-95%. On the other hand, it is worth acknowledging that in a real-life business context this model should not be the final judge of whether or not a loan should be issued. I can imagine a case in which a High Net Worth Individual wanted a loan from the client, but for some reason the algorithm would evaluate this client to be likely to run on default. Such situation should then be considered by a human having actual experience with working with clients. It is because rejecting a HNWI could have further repercussions, such as for example damaged reputation driving other HNWIs away from the loan issuer. \n",
    "\n",
    "As mentioned before, there is always a room for improvement. In this case, I could include more features in the model, try an entirely new one, or use a promising XGBoost with different parameters. "
   ]
  }
 ],
 "metadata": {
  "kernelspec": {
   "display_name": "Python 3",
   "language": "python",
   "name": "python3"
  },
  "language_info": {
   "codemirror_mode": {
    "name": "ipython",
    "version": 3
   },
   "file_extension": ".py",
   "mimetype": "text/x-python",
   "name": "python",
   "nbconvert_exporter": "python",
   "pygments_lexer": "ipython3",
   "version": "3.7.3"
  }
 },
 "nbformat": 4,
 "nbformat_minor": 2
}
